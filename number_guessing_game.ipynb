{
  "nbformat": 4,
  "nbformat_minor": 0,
  "metadata": {
    "colab": {
      "provenance": [],
      "authorship_tag": "ABX9TyPwhln88qxU7W7FzlVG56Tj",
      "include_colab_link": true
    },
    "kernelspec": {
      "name": "python3",
      "display_name": "Python 3"
    },
    "language_info": {
      "name": "python"
    }
  },
  "cells": [
    {
      "cell_type": "markdown",
      "metadata": {
        "id": "view-in-github",
        "colab_type": "text"
      },
      "source": [
        "<a href=\"https://colab.research.google.com/github/Sachin0P/Number-Guessing-Game/blob/main/number_guessing_game.ipynb\" target=\"_parent\"><img src=\"https://colab.research.google.com/assets/colab-badge.svg\" alt=\"Open In Colab\"/></a>"
      ]
    },
    {
      "cell_type": "code",
      "execution_count": 2,
      "metadata": {
        "colab": {
          "base_uri": "https://localhost:8080/"
        },
        "id": "tg7xr4DxIGsv",
        "outputId": "acd5a7ee-5524-45ca-9d26-2dc5926d0f56"
      },
      "outputs": [
        {
          "output_type": "stream",
          "name": "stdout",
          "text": [
            "welcome to the number guessing game\n",
            "guess a number between 0-10\n",
            "56784\n",
            "incorrect the number is  696477\n"
          ]
        }
      ],
      "source": [
        "import random as r\n",
        "print('welcome to the number guessing game')\n",
        "n=int(input('guess a number between 0-10\\n'))\n",
        "i=r.sample(range(0,1000000),1)\n",
        "if n==i[0]:\n",
        "    print('the guess was correct the number is ',i[0])\n",
        "else:\n",
        "    print('incorrect the number is ', i[0])"
      ]
    }
  ]
}